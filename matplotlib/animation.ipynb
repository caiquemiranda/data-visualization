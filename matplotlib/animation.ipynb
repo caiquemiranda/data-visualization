{
 "cells": [
  {
   "cell_type": "code",
   "execution_count": 6,
   "metadata": {},
   "outputs": [],
   "source": [
    "import matplotlib.pyplot as plt #plotting\n",
    "from datetime import datetime, timedelta #data creation \n",
    "import matplotlib.animation as animation\n",
    "from celluloid import Camera #animation\n",
    "plt.style.use('seaborn')"
   ]
  },
  {
   "cell_type": "code",
   "execution_count": 2,
   "metadata": {},
   "outputs": [],
   "source": [
    "dates = [\n",
    "    datetime(2020, 8, 11),\n",
    "    datetime(2020, 8, 12),\n",
    "    datetime(2020, 8, 13),\n",
    "    datetime(2020, 8, 14),\n",
    "    datetime(2020, 8, 15),\n",
    "    datetime(2020, 8, 16),\n",
    "    datetime(2020, 8, 17),\n",
    "    datetime(2020, 8, 18),\n",
    "    datetime(2020, 8, 19),\n",
    "    datetime(2020, 8, 20),\n",
    "    datetime(2020, 8, 21),\n",
    "    datetime(2020, 8, 22),\n",
    "    datetime(2020, 8, 23),\n",
    "    datetime(2020, 8, 24)\n",
    "]\n",
    "\n",
    "y = [0, 4, 3, 1, 3, 2, 6,0, 4, 3, 1, 3, 2, 6]"
   ]
  },
  {
   "cell_type": "code",
   "execution_count": 3,
   "metadata": {},
   "outputs": [
    {
     "data": {
      "text/plain": [
       "<Figure size 576x396 with 0 Axes>"
      ]
     },
     "metadata": {},
     "output_type": "display_data"
    }
   ],
   "source": [
    "fig = plt.figure()\n",
    "camera = Camera(fig)"
   ]
  },
  {
   "cell_type": "code",
   "execution_count": 4,
   "metadata": {},
   "outputs": [
    {
     "data": {
      "image/png": "[encoded data removed]",
      "text/plain": [
       "<Figure size 576x396 with 1 Axes>"
      ]
     },
     "metadata": {},
     "output_type": "display_data"
    }
   ],
   "source": [
    "for i in range(0,len(y)):\n",
    "    new_dates = dates[:i]\n",
    "    z = y[:i]\n",
    "    plt.plot_date(new_dates,z, linestyle = 'solid',color = 'red')\n",
    "    plt.tight_layout()\n",
    "    #plt.show()\n",
    "    camera.snap()\n",
    "animation = camera.animate()"
   ]
  },
  {
   "cell_type": "code",
   "execution_count": null,
   "metadata": {},
   "outputs": [],
   "source": [
    "from IPython.display import HTML\n",
    "#animation = camera.animate()\n",
    "HTML(animation.to_html5_video())"
   ]
  },
  {
   "cell_type": "code",
   "execution_count": null,
   "metadata": {},
   "outputs": [],
   "source": [
    "import numpy as np\n",
    "from matplotlib import pyplot as plt\n",
    "from celluloid import Camera\n",
    "\n",
    "fig, axes = plt.subplots(2)\n",
    "camera = Camera(fig)\n",
    "t = np.linspace(0, 2 * np.pi, 128, endpoint=False)\n",
    "for i in t:\n",
    "    axes[0].plot(t, np.sin(t + i), color='blue')\n",
    "    axes[1].plot(t, np.sin(t - i), color='blue')\n",
    "    camera.snap()\n",
    "animation = camera.animate()"
   ]
  },
  {
   "cell_type": "code",
   "execution_count": null,
   "metadata": {},
   "outputs": [],
   "source": [
    "from IPython.display import HTML\n",
    "#animation = camera.animate()\n",
    "HTML(animation.to_html5_video())"
   ]
  },
  {
   "cell_type": "code",
   "execution_count": null,
   "metadata": {},
   "outputs": [],
   "source": [
    "import matplotlib.pyplot as plt\n",
    "from datetime import datetime, timedelta\n",
    "plt.style.use('seaborn')\n",
    "\n",
    "dates = [\n",
    "    datetime(2020, 8, 11),\n",
    "    datetime(2020, 8, 12),\n",
    "    datetime(2020, 8, 13),\n",
    "    datetime(2020, 8, 14),\n",
    "    datetime(2020, 8, 15),\n",
    "    datetime(2020, 8, 16),\n",
    "    datetime(2020, 8, 17),\n",
    "    datetime(2020, 8, 18),\n",
    "    datetime(2020, 8, 19),\n",
    "    datetime(2020, 8, 20),\n",
    "    datetime(2020, 8, 21),\n",
    "    datetime(2020, 8, 22),\n",
    "    datetime(2020, 8, 23),\n",
    "    datetime(2020, 8, 24)\n",
    "]\n",
    "\n",
    "y = [0, 4, 3, 1, 3, 2, 6,0, 4, 3, 1, 3, 2, 6]\n",
    "\n",
    "\n",
    "fig = plt.figure()\n",
    "camera = Camera(fig)\n",
    "for i in range(0,len(y)):\n",
    "    new_dates = dates[:i]\n",
    "    z = y[:i]\n",
    "    plt.plot_date(new_dates,z, linestyle = 'solid',color = 'red')\n",
    "    plt.tight_layout()\n",
    "    #plt.show()\n",
    "    camera.snap()\n",
    "animation = camera.animate()"
   ]
  },
  {
   "cell_type": "code",
   "execution_count": null,
   "metadata": {},
   "outputs": [],
   "source": [
    "from IPython.display import HTML\n",
    "#animation = camera.animate()\n",
    "HTML(animation.to_html5_video())"
   ]
  }
 ],
 "metadata": {
  "interpreter": {
   "hash": "b3ba2566441a7c06988d0923437866b63cedc61552a5af99d1f4fb67d367b25f"
  },
  "kernelspec": {
   "display_name": "Python 3.8.8 ('base')",
   "language": "python",
   "name": "python3"
  },
  "language_info": {
   "codemirror_mode": {
    "name": "ipython",
    "version": 3
   },
   "file_extension": ".py",
   "mimetype": "text/x-python",
   "name": "python",
   "nbconvert_exporter": "python",
   "pygments_lexer": "ipython3",
   "version": "3.8.8"
  },
  "orig_nbformat": 4
 },
 "nbformat": 4,
 "nbformat_minor": 2
}
